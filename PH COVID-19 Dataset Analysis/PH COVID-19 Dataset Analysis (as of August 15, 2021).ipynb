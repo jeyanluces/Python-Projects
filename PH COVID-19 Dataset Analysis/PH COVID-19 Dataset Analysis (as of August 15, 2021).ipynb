{
 "cells": [
  {
   "cell_type": "markdown",
   "metadata": {},
   "source": [
    "# PH COVID-19 Dataset Analysis"
   ]
  },
  {
   "cell_type": "markdown",
   "metadata": {},
   "source": [
    "### Source:\n",
    "    DOH COVID-19 Data Drop(August 15, 2021): https://data.gov.ph/"
   ]
  },
  {
   "cell_type": "markdown",
   "metadata": {},
   "source": [
    "### Tasks:\n",
    "    1. Determine the total deaths, total cases, death percentage, and recovery rate.\n",
    "    2. Which age group has the highest number of cases?\n",
    "    3. Mean of the ages of the every patient, recovered patients, and casualties\n",
    "    4. Which sex has the higher number of cases?\n",
    "    5. Total cases per region"
   ]
  },
  {
   "cell_type": "code",
   "execution_count": 1,
   "metadata": {},
   "outputs": [],
   "source": [
    "#importing libraries\n",
    "import numpy as np\n",
    "import pandas as pd\n",
    "import matplotlib.pyplot as plt"
   ]
  },
  {
   "cell_type": "code",
   "execution_count": 2,
   "metadata": {
    "scrolled": true
   },
   "outputs": [
    {
     "data": {
      "text/html": [
       "<div>\n",
       "<style scoped>\n",
       "    .dataframe tbody tr th:only-of-type {\n",
       "        vertical-align: middle;\n",
       "    }\n",
       "\n",
       "    .dataframe tbody tr th {\n",
       "        vertical-align: top;\n",
       "    }\n",
       "\n",
       "    .dataframe thead th {\n",
       "        text-align: right;\n",
       "    }\n",
       "</style>\n",
       "<table border=\"1\" class=\"dataframe\">\n",
       "  <thead>\n",
       "    <tr style=\"text-align: right;\">\n",
       "      <th></th>\n",
       "      <th>CaseCode</th>\n",
       "      <th>Age</th>\n",
       "      <th>AgeGroup</th>\n",
       "      <th>Sex</th>\n",
       "      <th>DateSpecimen</th>\n",
       "      <th>DateResultRelease</th>\n",
       "      <th>DateRepConf</th>\n",
       "      <th>DateDied</th>\n",
       "      <th>DateRecover</th>\n",
       "      <th>RemovalType</th>\n",
       "      <th>...</th>\n",
       "      <th>ProvRes</th>\n",
       "      <th>CityMunRes</th>\n",
       "      <th>CityMuniPSGC</th>\n",
       "      <th>BarangayRes</th>\n",
       "      <th>BarangayPSGC</th>\n",
       "      <th>HealthStatus</th>\n",
       "      <th>Quarantined</th>\n",
       "      <th>DateOnset</th>\n",
       "      <th>Pregnanttab</th>\n",
       "      <th>ValidationStatus</th>\n",
       "    </tr>\n",
       "  </thead>\n",
       "  <tbody>\n",
       "    <tr>\n",
       "      <th>0</th>\n",
       "      <td>C211770</td>\n",
       "      <td>51.0</td>\n",
       "      <td>50 to 54</td>\n",
       "      <td>FEMALE</td>\n",
       "      <td>2021-01-12</td>\n",
       "      <td>2021-01-14</td>\n",
       "      <td>2021-01-16</td>\n",
       "      <td>NaN</td>\n",
       "      <td>2021-01-02</td>\n",
       "      <td>RECOVERED</td>\n",
       "      <td>...</td>\n",
       "      <td>SOUTH COTABATO</td>\n",
       "      <td>CITY OF KORONADAL (CAPITAL)</td>\n",
       "      <td>PH126306000</td>\n",
       "      <td>NaN</td>\n",
       "      <td>NaN</td>\n",
       "      <td>RECOVERED</td>\n",
       "      <td>NO</td>\n",
       "      <td>2021-01-01</td>\n",
       "      <td>NO</td>\n",
       "      <td>NaN</td>\n",
       "    </tr>\n",
       "    <tr>\n",
       "      <th>1</th>\n",
       "      <td>C64202914</td>\n",
       "      <td>35.0</td>\n",
       "      <td>35 to 39</td>\n",
       "      <td>MALE</td>\n",
       "      <td>NaN</td>\n",
       "      <td>NaN</td>\n",
       "      <td>2021-04-19</td>\n",
       "      <td>NaN</td>\n",
       "      <td>NaN</td>\n",
       "      <td>RECOVERED</td>\n",
       "      <td>...</td>\n",
       "      <td>NaN</td>\n",
       "      <td>NaN</td>\n",
       "      <td>NaN</td>\n",
       "      <td>NaN</td>\n",
       "      <td>NaN</td>\n",
       "      <td>RECOVERED</td>\n",
       "      <td>NO</td>\n",
       "      <td>2021-04-16</td>\n",
       "      <td>NaN</td>\n",
       "      <td>Health Status is \"Recovered\", but no Date Reco...</td>\n",
       "    </tr>\n",
       "    <tr>\n",
       "      <th>2</th>\n",
       "      <td>C27258607</td>\n",
       "      <td>27.0</td>\n",
       "      <td>25 to 29</td>\n",
       "      <td>FEMALE</td>\n",
       "      <td>2021-08-09</td>\n",
       "      <td>2021-08-10</td>\n",
       "      <td>2021-08-12</td>\n",
       "      <td>NaN</td>\n",
       "      <td>NaN</td>\n",
       "      <td>NaN</td>\n",
       "      <td>...</td>\n",
       "      <td>NaN</td>\n",
       "      <td>NaN</td>\n",
       "      <td>NaN</td>\n",
       "      <td>NaN</td>\n",
       "      <td>NaN</td>\n",
       "      <td>MILD</td>\n",
       "      <td>NO</td>\n",
       "      <td>NaN</td>\n",
       "      <td>NO</td>\n",
       "      <td>NaN</td>\n",
       "    </tr>\n",
       "    <tr>\n",
       "      <th>3</th>\n",
       "      <td>C187298</td>\n",
       "      <td>36.0</td>\n",
       "      <td>35 to 39</td>\n",
       "      <td>FEMALE</td>\n",
       "      <td>2020-07-23</td>\n",
       "      <td>2020-07-28</td>\n",
       "      <td>2020-07-31</td>\n",
       "      <td>NaN</td>\n",
       "      <td>NaN</td>\n",
       "      <td>RECOVERED</td>\n",
       "      <td>...</td>\n",
       "      <td>LAGUNA</td>\n",
       "      <td>CITY OF CALAMBA</td>\n",
       "      <td>PH043405000</td>\n",
       "      <td>NaN</td>\n",
       "      <td>NaN</td>\n",
       "      <td>RECOVERED</td>\n",
       "      <td>NO</td>\n",
       "      <td>NaN</td>\n",
       "      <td>NO</td>\n",
       "      <td>Removal Type is \"Recovered\", but no Recovered ...</td>\n",
       "    </tr>\n",
       "    <tr>\n",
       "      <th>4</th>\n",
       "      <td>C582484</td>\n",
       "      <td>22.0</td>\n",
       "      <td>20 to 24</td>\n",
       "      <td>FEMALE</td>\n",
       "      <td>2020-08-23</td>\n",
       "      <td>2020-08-26</td>\n",
       "      <td>2020-08-28</td>\n",
       "      <td>NaN</td>\n",
       "      <td>NaN</td>\n",
       "      <td>RECOVERED</td>\n",
       "      <td>...</td>\n",
       "      <td>LANAO DEL SUR</td>\n",
       "      <td>MARANTAO</td>\n",
       "      <td>PH153616000</td>\n",
       "      <td>NaN</td>\n",
       "      <td>NaN</td>\n",
       "      <td>RECOVERED</td>\n",
       "      <td>NO</td>\n",
       "      <td>NaN</td>\n",
       "      <td>NO</td>\n",
       "      <td>Removal Type is \"Recovered\", but no Recovered ...</td>\n",
       "    </tr>\n",
       "  </tbody>\n",
       "</table>\n",
       "<p>5 rows × 22 columns</p>\n",
       "</div>"
      ],
      "text/plain": [
       "    CaseCode   Age  AgeGroup     Sex DateSpecimen DateResultRelease  \\\n",
       "0    C211770  51.0  50 to 54  FEMALE   2021-01-12        2021-01-14   \n",
       "1  C64202914  35.0  35 to 39    MALE          NaN               NaN   \n",
       "2  C27258607  27.0  25 to 29  FEMALE   2021-08-09        2021-08-10   \n",
       "3    C187298  36.0  35 to 39  FEMALE   2020-07-23        2020-07-28   \n",
       "4    C582484  22.0  20 to 24  FEMALE   2020-08-23        2020-08-26   \n",
       "\n",
       "  DateRepConf DateDied DateRecover RemovalType  ...         ProvRes  \\\n",
       "0  2021-01-16      NaN  2021-01-02   RECOVERED  ...  SOUTH COTABATO   \n",
       "1  2021-04-19      NaN         NaN   RECOVERED  ...             NaN   \n",
       "2  2021-08-12      NaN         NaN         NaN  ...             NaN   \n",
       "3  2020-07-31      NaN         NaN   RECOVERED  ...          LAGUNA   \n",
       "4  2020-08-28      NaN         NaN   RECOVERED  ...   LANAO DEL SUR   \n",
       "\n",
       "                    CityMunRes CityMuniPSGC BarangayRes BarangayPSGC  \\\n",
       "0  CITY OF KORONADAL (CAPITAL)  PH126306000         NaN          NaN   \n",
       "1                          NaN          NaN         NaN          NaN   \n",
       "2                          NaN          NaN         NaN          NaN   \n",
       "3              CITY OF CALAMBA  PH043405000         NaN          NaN   \n",
       "4                     MARANTAO  PH153616000         NaN          NaN   \n",
       "\n",
       "  HealthStatus Quarantined   DateOnset Pregnanttab  \\\n",
       "0    RECOVERED          NO  2021-01-01          NO   \n",
       "1    RECOVERED          NO  2021-04-16         NaN   \n",
       "2         MILD          NO         NaN          NO   \n",
       "3    RECOVERED          NO         NaN          NO   \n",
       "4    RECOVERED          NO         NaN          NO   \n",
       "\n",
       "                                    ValidationStatus  \n",
       "0                                                NaN  \n",
       "1  Health Status is \"Recovered\", but no Date Reco...  \n",
       "2                                                NaN  \n",
       "3  Removal Type is \"Recovered\", but no Recovered ...  \n",
       "4  Removal Type is \"Recovered\", but no Recovered ...  \n",
       "\n",
       "[5 rows x 22 columns]"
      ]
     },
     "execution_count": 2,
     "metadata": {},
     "output_type": "execute_result"
    }
   ],
   "source": [
    "#creating a dataframe using the COVID.csv file\n",
    "df = pd.read_csv('COVID.csv')\n",
    "df.head()"
   ]
  },
  {
   "cell_type": "code",
   "execution_count": 3,
   "metadata": {},
   "outputs": [
    {
     "name": "stdout",
     "output_type": "stream",
     "text": [
      "<class 'pandas.core.frame.DataFrame'>\n",
      "RangeIndex: 1741616 entries, 0 to 1741615\n",
      "Data columns (total 22 columns):\n",
      " #   Column             Dtype  \n",
      "---  ------             -----  \n",
      " 0   CaseCode           object \n",
      " 1   Age                float64\n",
      " 2   AgeGroup           object \n",
      " 3   Sex                object \n",
      " 4   DateSpecimen       object \n",
      " 5   DateResultRelease  object \n",
      " 6   DateRepConf        object \n",
      " 7   DateDied           object \n",
      " 8   DateRecover        object \n",
      " 9   RemovalType        object \n",
      " 10  Admitted           object \n",
      " 11  RegionRes          object \n",
      " 12  ProvRes            object \n",
      " 13  CityMunRes         object \n",
      " 14  CityMuniPSGC       object \n",
      " 15  BarangayRes        object \n",
      " 16  BarangayPSGC       object \n",
      " 17  HealthStatus       object \n",
      " 18  Quarantined        object \n",
      " 19  DateOnset          object \n",
      " 20  Pregnanttab        object \n",
      " 21  ValidationStatus   object \n",
      "dtypes: float64(1), object(21)\n",
      "memory usage: 292.3+ MB\n"
     ]
    }
   ],
   "source": [
    "df.info()"
   ]
  },
  {
   "cell_type": "code",
   "execution_count": 4,
   "metadata": {},
   "outputs": [
    {
     "data": {
      "text/html": [
       "<div>\n",
       "<style scoped>\n",
       "    .dataframe tbody tr th:only-of-type {\n",
       "        vertical-align: middle;\n",
       "    }\n",
       "\n",
       "    .dataframe tbody tr th {\n",
       "        vertical-align: top;\n",
       "    }\n",
       "\n",
       "    .dataframe thead th {\n",
       "        text-align: right;\n",
       "    }\n",
       "</style>\n",
       "<table border=\"1\" class=\"dataframe\">\n",
       "  <thead>\n",
       "    <tr style=\"text-align: right;\">\n",
       "      <th></th>\n",
       "      <th>CaseCode</th>\n",
       "      <th>Age</th>\n",
       "      <th>AgeGroup</th>\n",
       "      <th>Sex</th>\n",
       "      <th>RemovalType</th>\n",
       "      <th>RegionRes</th>\n",
       "      <th>HealthStatus</th>\n",
       "    </tr>\n",
       "  </thead>\n",
       "  <tbody>\n",
       "    <tr>\n",
       "      <th>0</th>\n",
       "      <td>C211770</td>\n",
       "      <td>51.0</td>\n",
       "      <td>50 to 54</td>\n",
       "      <td>FEMALE</td>\n",
       "      <td>RECOVERED</td>\n",
       "      <td>Region XII: SOCCSKSARGEN</td>\n",
       "      <td>RECOVERED</td>\n",
       "    </tr>\n",
       "    <tr>\n",
       "      <th>1</th>\n",
       "      <td>C64202914</td>\n",
       "      <td>35.0</td>\n",
       "      <td>35 to 39</td>\n",
       "      <td>MALE</td>\n",
       "      <td>RECOVERED</td>\n",
       "      <td>ROF</td>\n",
       "      <td>RECOVERED</td>\n",
       "    </tr>\n",
       "    <tr>\n",
       "      <th>2</th>\n",
       "      <td>C27258607</td>\n",
       "      <td>27.0</td>\n",
       "      <td>25 to 29</td>\n",
       "      <td>FEMALE</td>\n",
       "      <td>NaN</td>\n",
       "      <td>ROF</td>\n",
       "      <td>MILD</td>\n",
       "    </tr>\n",
       "    <tr>\n",
       "      <th>3</th>\n",
       "      <td>C187298</td>\n",
       "      <td>36.0</td>\n",
       "      <td>35 to 39</td>\n",
       "      <td>FEMALE</td>\n",
       "      <td>RECOVERED</td>\n",
       "      <td>Region IV-A: CALABARZON</td>\n",
       "      <td>RECOVERED</td>\n",
       "    </tr>\n",
       "    <tr>\n",
       "      <th>4</th>\n",
       "      <td>C582484</td>\n",
       "      <td>22.0</td>\n",
       "      <td>20 to 24</td>\n",
       "      <td>FEMALE</td>\n",
       "      <td>RECOVERED</td>\n",
       "      <td>BARMM</td>\n",
       "      <td>RECOVERED</td>\n",
       "    </tr>\n",
       "    <tr>\n",
       "      <th>...</th>\n",
       "      <td>...</td>\n",
       "      <td>...</td>\n",
       "      <td>...</td>\n",
       "      <td>...</td>\n",
       "      <td>...</td>\n",
       "      <td>...</td>\n",
       "      <td>...</td>\n",
       "    </tr>\n",
       "    <tr>\n",
       "      <th>1741611</th>\n",
       "      <td>C41519655</td>\n",
       "      <td>26.0</td>\n",
       "      <td>25 to 29</td>\n",
       "      <td>FEMALE</td>\n",
       "      <td>RECOVERED</td>\n",
       "      <td>Region IV-B: MIMAROPA</td>\n",
       "      <td>RECOVERED</td>\n",
       "    </tr>\n",
       "    <tr>\n",
       "      <th>1741612</th>\n",
       "      <td>C63661096</td>\n",
       "      <td>28.0</td>\n",
       "      <td>25 to 29</td>\n",
       "      <td>FEMALE</td>\n",
       "      <td>RECOVERED</td>\n",
       "      <td>Region IV-B: MIMAROPA</td>\n",
       "      <td>RECOVERED</td>\n",
       "    </tr>\n",
       "    <tr>\n",
       "      <th>1741613</th>\n",
       "      <td>C76046508</td>\n",
       "      <td>42.0</td>\n",
       "      <td>40 to 44</td>\n",
       "      <td>MALE</td>\n",
       "      <td>RECOVERED</td>\n",
       "      <td>Region IV-B: MIMAROPA</td>\n",
       "      <td>RECOVERED</td>\n",
       "    </tr>\n",
       "    <tr>\n",
       "      <th>1741614</th>\n",
       "      <td>C97901071</td>\n",
       "      <td>49.0</td>\n",
       "      <td>45 to 49</td>\n",
       "      <td>MALE</td>\n",
       "      <td>RECOVERED</td>\n",
       "      <td>Region IV-B: MIMAROPA</td>\n",
       "      <td>RECOVERED</td>\n",
       "    </tr>\n",
       "    <tr>\n",
       "      <th>1741615</th>\n",
       "      <td>C93528202</td>\n",
       "      <td>14.0</td>\n",
       "      <td>10 to 14</td>\n",
       "      <td>FEMALE</td>\n",
       "      <td>RECOVERED</td>\n",
       "      <td>Region IV-B: MIMAROPA</td>\n",
       "      <td>RECOVERED</td>\n",
       "    </tr>\n",
       "  </tbody>\n",
       "</table>\n",
       "<p>1741616 rows × 7 columns</p>\n",
       "</div>"
      ],
      "text/plain": [
       "          CaseCode   Age  AgeGroup     Sex RemovalType  \\\n",
       "0          C211770  51.0  50 to 54  FEMALE   RECOVERED   \n",
       "1        C64202914  35.0  35 to 39    MALE   RECOVERED   \n",
       "2        C27258607  27.0  25 to 29  FEMALE         NaN   \n",
       "3          C187298  36.0  35 to 39  FEMALE   RECOVERED   \n",
       "4          C582484  22.0  20 to 24  FEMALE   RECOVERED   \n",
       "...            ...   ...       ...     ...         ...   \n",
       "1741611  C41519655  26.0  25 to 29  FEMALE   RECOVERED   \n",
       "1741612  C63661096  28.0  25 to 29  FEMALE   RECOVERED   \n",
       "1741613  C76046508  42.0  40 to 44    MALE   RECOVERED   \n",
       "1741614  C97901071  49.0  45 to 49    MALE   RECOVERED   \n",
       "1741615  C93528202  14.0  10 to 14  FEMALE   RECOVERED   \n",
       "\n",
       "                        RegionRes HealthStatus  \n",
       "0        Region XII: SOCCSKSARGEN    RECOVERED  \n",
       "1                             ROF    RECOVERED  \n",
       "2                             ROF         MILD  \n",
       "3         Region IV-A: CALABARZON    RECOVERED  \n",
       "4                           BARMM    RECOVERED  \n",
       "...                           ...          ...  \n",
       "1741611     Region IV-B: MIMAROPA    RECOVERED  \n",
       "1741612     Region IV-B: MIMAROPA    RECOVERED  \n",
       "1741613     Region IV-B: MIMAROPA    RECOVERED  \n",
       "1741614     Region IV-B: MIMAROPA    RECOVERED  \n",
       "1741615     Region IV-B: MIMAROPA    RECOVERED  \n",
       "\n",
       "[1741616 rows x 7 columns]"
      ]
     },
     "execution_count": 4,
     "metadata": {},
     "output_type": "execute_result"
    }
   ],
   "source": [
    "#Creating a new dataframe and only including neccessary columns\n",
    "df1 = pd.read_csv('COVID.csv', usecols=[0,1,2,3,9,11,17])\n",
    "df1.head(len(df))"
   ]
  },
  {
   "cell_type": "markdown",
   "metadata": {},
   "source": [
    "---"
   ]
  },
  {
   "cell_type": "markdown",
   "metadata": {},
   "source": [
    "## Task 1: Determine the Total Deaths, Total Cases, Death Percentage, and Recovery Rate"
   ]
  },
  {
   "cell_type": "code",
   "execution_count": 5,
   "metadata": {},
   "outputs": [
    {
     "name": "stdout",
     "output_type": "stream",
     "text": [
      "Total number of cases as of Aug. 15, 2021: 1741616\n"
     ]
    }
   ],
   "source": [
    "#Determining the total number of cases\n",
    "total = df1.shape[0]\n",
    "print(\"Total number of cases as of Aug. 15, 2021:\",total)"
   ]
  },
  {
   "cell_type": "code",
   "execution_count": 6,
   "metadata": {},
   "outputs": [
    {
     "data": {
      "text/html": [
       "<div>\n",
       "<style scoped>\n",
       "    .dataframe tbody tr th:only-of-type {\n",
       "        vertical-align: middle;\n",
       "    }\n",
       "\n",
       "    .dataframe tbody tr th {\n",
       "        vertical-align: top;\n",
       "    }\n",
       "\n",
       "    .dataframe thead th {\n",
       "        text-align: right;\n",
       "    }\n",
       "</style>\n",
       "<table border=\"1\" class=\"dataframe\">\n",
       "  <thead>\n",
       "    <tr style=\"text-align: right;\">\n",
       "      <th></th>\n",
       "      <th>HealthStatus</th>\n",
       "    </tr>\n",
       "  </thead>\n",
       "  <tbody>\n",
       "    <tr>\n",
       "      <th>RECOVERED</th>\n",
       "      <td>1608528</td>\n",
       "    </tr>\n",
       "    <tr>\n",
       "      <th>MILD</th>\n",
       "      <td>98561</td>\n",
       "    </tr>\n",
       "    <tr>\n",
       "      <th>DIED</th>\n",
       "      <td>30340</td>\n",
       "    </tr>\n",
       "    <tr>\n",
       "      <th>SEVERE</th>\n",
       "      <td>1364</td>\n",
       "    </tr>\n",
       "    <tr>\n",
       "      <th>ASYMPTOMATIC</th>\n",
       "      <td>1091</td>\n",
       "    </tr>\n",
       "    <tr>\n",
       "      <th>MODERATE</th>\n",
       "      <td>952</td>\n",
       "    </tr>\n",
       "    <tr>\n",
       "      <th>CRITICAL</th>\n",
       "      <td>780</td>\n",
       "    </tr>\n",
       "  </tbody>\n",
       "</table>\n",
       "</div>"
      ],
      "text/plain": [
       "              HealthStatus\n",
       "RECOVERED          1608528\n",
       "MILD                 98561\n",
       "DIED                 30340\n",
       "SEVERE                1364\n",
       "ASYMPTOMATIC          1091\n",
       "MODERATE               952\n",
       "CRITICAL               780"
      ]
     },
     "execution_count": 6,
     "metadata": {},
     "output_type": "execute_result"
    }
   ],
   "source": [
    "tally = df1['HealthStatus'].value_counts()\n",
    "tally.to_frame()"
   ]
  },
  {
   "cell_type": "code",
   "execution_count": 7,
   "metadata": {},
   "outputs": [
    {
     "name": "stdout",
     "output_type": "stream",
     "text": [
      "Total active cases as of Aug. 15, 2021: 102748\n"
     ]
    }
   ],
   "source": [
    "#Extracting the values of death tally(died) and recovered tally(rec) to get the total number of `active` cases\n",
    "died = df1.HealthStatus.value_counts().DIED\n",
    "rec = df1.HealthStatus.value_counts().RECOVERED\n",
    "ac = total-(rec+died)\n",
    "print(\"Total active cases as of Aug. 15, 2021:\", ac)"
   ]
  },
  {
   "cell_type": "code",
   "execution_count": 8,
   "metadata": {},
   "outputs": [],
   "source": [
    "values = [ac, died, rec]\n",
    "label = ['Active Cases', 'Deaths', 'Recoveries']"
   ]
  },
  {
   "cell_type": "code",
   "execution_count": 9,
   "metadata": {},
   "outputs": [
    {
     "data": {
      "image/png": "[encoded data removed]",
      "text/plain": [
       "<Figure size 432x288 with 1 Axes>"
      ]
     },
     "metadata": {},
     "output_type": "display_data"
    }
   ],
   "source": [
    "plt.pie(values, labels=label, autopct='%0.2f%%', colors = ['yellow', 'gray', 'green'])\n",
    "plt.axis(\"equal\")\n",
    "plt.title(\"Case Distribution per Status\")\n",
    "plt.show()"
   ]
  },
  {
   "cell_type": "markdown",
   "metadata": {},
   "source": [
    "---"
   ]
  },
  {
   "cell_type": "markdown",
   "metadata": {},
   "source": [
    "## Task 2: Which age group has the highest number of cases?"
   ]
  },
  {
   "cell_type": "code",
   "execution_count": 10,
   "metadata": {},
   "outputs": [
    {
     "data": {
      "text/html": [
       "<div>\n",
       "<style scoped>\n",
       "    .dataframe tbody tr th:only-of-type {\n",
       "        vertical-align: middle;\n",
       "    }\n",
       "\n",
       "    .dataframe tbody tr th {\n",
       "        vertical-align: top;\n",
       "    }\n",
       "\n",
       "    .dataframe thead th {\n",
       "        text-align: right;\n",
       "    }\n",
       "</style>\n",
       "<table border=\"1\" class=\"dataframe\">\n",
       "  <thead>\n",
       "    <tr style=\"text-align: right;\">\n",
       "      <th></th>\n",
       "      <th>AgeGroup</th>\n",
       "    </tr>\n",
       "  </thead>\n",
       "  <tbody>\n",
       "    <tr>\n",
       "      <th>25 to 29</th>\n",
       "      <td>249013</td>\n",
       "    </tr>\n",
       "    <tr>\n",
       "      <th>30 to 34</th>\n",
       "      <td>219960</td>\n",
       "    </tr>\n",
       "    <tr>\n",
       "      <th>20 to 24</th>\n",
       "      <td>180349</td>\n",
       "    </tr>\n",
       "    <tr>\n",
       "      <th>35 to 39</th>\n",
       "      <td>170191</td>\n",
       "    </tr>\n",
       "    <tr>\n",
       "      <th>40 to 44</th>\n",
       "      <td>148174</td>\n",
       "    </tr>\n",
       "    <tr>\n",
       "      <th>45 to 49</th>\n",
       "      <td>123820</td>\n",
       "    </tr>\n",
       "    <tr>\n",
       "      <th>50 to 54</th>\n",
       "      <td>115714</td>\n",
       "    </tr>\n",
       "    <tr>\n",
       "      <th>55 to 59</th>\n",
       "      <td>102452</td>\n",
       "    </tr>\n",
       "    <tr>\n",
       "      <th>60 to 64</th>\n",
       "      <td>82995</td>\n",
       "    </tr>\n",
       "    <tr>\n",
       "      <th>15 to 19</th>\n",
       "      <td>72638</td>\n",
       "    </tr>\n",
       "    <tr>\n",
       "      <th>65 to 69</th>\n",
       "      <td>60637</td>\n",
       "    </tr>\n",
       "    <tr>\n",
       "      <th>10 to 14</th>\n",
       "      <td>48035</td>\n",
       "    </tr>\n",
       "    <tr>\n",
       "      <th>70 to 74</th>\n",
       "      <td>43507</td>\n",
       "    </tr>\n",
       "    <tr>\n",
       "      <th>5 to 9</th>\n",
       "      <td>34934</td>\n",
       "    </tr>\n",
       "    <tr>\n",
       "      <th>0 to 4</th>\n",
       "      <td>33596</td>\n",
       "    </tr>\n",
       "    <tr>\n",
       "      <th>80+</th>\n",
       "      <td>28254</td>\n",
       "    </tr>\n",
       "    <tr>\n",
       "      <th>75 to 79</th>\n",
       "      <td>24998</td>\n",
       "    </tr>\n",
       "  </tbody>\n",
       "</table>\n",
       "</div>"
      ],
      "text/plain": [
       "          AgeGroup\n",
       "25 to 29    249013\n",
       "30 to 34    219960\n",
       "20 to 24    180349\n",
       "35 to 39    170191\n",
       "40 to 44    148174\n",
       "45 to 49    123820\n",
       "50 to 54    115714\n",
       "55 to 59    102452\n",
       "60 to 64     82995\n",
       "15 to 19     72638\n",
       "65 to 69     60637\n",
       "10 to 14     48035\n",
       "70 to 74     43507\n",
       "5 to 9       34934\n",
       "0 to 4       33596\n",
       "80+          28254\n",
       "75 to 79     24998"
      ]
     },
     "execution_count": 10,
     "metadata": {},
     "output_type": "execute_result"
    }
   ],
   "source": [
    "#Number of Cases per Age Group\n",
    "casesPerAgeGroup = df1['AgeGroup'].value_counts()\n",
    "casesPerAgeGroup.to_frame()"
   ]
  },
  {
   "cell_type": "code",
   "execution_count": 11,
   "metadata": {},
   "outputs": [
    {
     "data": {
      "image/png": "[encoded data removed]",
      "text/plain": [
       "<Figure size 432x288 with 1 Axes>"
      ]
     },
     "metadata": {
      "needs_background": "light"
     },
     "output_type": "display_data"
    }
   ],
   "source": [
    "ageGroup_bar = casesPerAgeGroup.plot(kind = \"bar\", color=\"0.7\", ec=\"black\")\n",
    "ageGroup_bar.set_title(\"Cases distribution per Age Group\")\n",
    "plt.show()"
   ]
  },
  {
   "cell_type": "code",
   "execution_count": 12,
   "metadata": {},
   "outputs": [
    {
     "data": {
      "text/html": [
       "<div>\n",
       "<style scoped>\n",
       "    .dataframe tbody tr th:only-of-type {\n",
       "        vertical-align: middle;\n",
       "    }\n",
       "\n",
       "    .dataframe tbody tr th {\n",
       "        vertical-align: top;\n",
       "    }\n",
       "\n",
       "    .dataframe thead th {\n",
       "        text-align: right;\n",
       "    }\n",
       "</style>\n",
       "<table border=\"1\" class=\"dataframe\">\n",
       "  <thead>\n",
       "    <tr style=\"text-align: right;\">\n",
       "      <th></th>\n",
       "      <th></th>\n",
       "      <th>Count</th>\n",
       "    </tr>\n",
       "    <tr>\n",
       "      <th>RemovalType</th>\n",
       "      <th>AgeGroup</th>\n",
       "      <th></th>\n",
       "    </tr>\n",
       "  </thead>\n",
       "  <tbody>\n",
       "    <tr>\n",
       "      <th rowspan=\"17\" valign=\"top\">DIED</th>\n",
       "      <th>0 to 4</th>\n",
       "      <td>242</td>\n",
       "    </tr>\n",
       "    <tr>\n",
       "      <th>10 to 14</th>\n",
       "      <td>72</td>\n",
       "    </tr>\n",
       "    <tr>\n",
       "      <th>15 to 19</th>\n",
       "      <td>137</td>\n",
       "    </tr>\n",
       "    <tr>\n",
       "      <th>20 to 24</th>\n",
       "      <td>247</td>\n",
       "    </tr>\n",
       "    <tr>\n",
       "      <th>25 to 29</th>\n",
       "      <td>445</td>\n",
       "    </tr>\n",
       "    <tr>\n",
       "      <th>30 to 34</th>\n",
       "      <td>610</td>\n",
       "    </tr>\n",
       "    <tr>\n",
       "      <th>35 to 39</th>\n",
       "      <td>812</td>\n",
       "    </tr>\n",
       "    <tr>\n",
       "      <th>40 to 44</th>\n",
       "      <td>1109</td>\n",
       "    </tr>\n",
       "    <tr>\n",
       "      <th>45 to 49</th>\n",
       "      <td>1661</td>\n",
       "    </tr>\n",
       "    <tr>\n",
       "      <th>5 to 9</th>\n",
       "      <td>38</td>\n",
       "    </tr>\n",
       "    <tr>\n",
       "      <th>50 to 54</th>\n",
       "      <td>2413</td>\n",
       "    </tr>\n",
       "    <tr>\n",
       "      <th>55 to 59</th>\n",
       "      <td>3111</td>\n",
       "    </tr>\n",
       "    <tr>\n",
       "      <th>60 to 64</th>\n",
       "      <td>4046</td>\n",
       "    </tr>\n",
       "    <tr>\n",
       "      <th>65 to 69</th>\n",
       "      <td>4350</td>\n",
       "    </tr>\n",
       "    <tr>\n",
       "      <th>70 to 74</th>\n",
       "      <td>4122</td>\n",
       "    </tr>\n",
       "    <tr>\n",
       "      <th>75 to 79</th>\n",
       "      <td>2836</td>\n",
       "    </tr>\n",
       "    <tr>\n",
       "      <th>80+</th>\n",
       "      <td>4074</td>\n",
       "    </tr>\n",
       "    <tr>\n",
       "      <th rowspan=\"17\" valign=\"top\">RECOVERED</th>\n",
       "      <th>0 to 4</th>\n",
       "      <td>30930</td>\n",
       "    </tr>\n",
       "    <tr>\n",
       "      <th>10 to 14</th>\n",
       "      <td>44617</td>\n",
       "    </tr>\n",
       "    <tr>\n",
       "      <th>15 to 19</th>\n",
       "      <td>67601</td>\n",
       "    </tr>\n",
       "    <tr>\n",
       "      <th>20 to 24</th>\n",
       "      <td>169571</td>\n",
       "    </tr>\n",
       "    <tr>\n",
       "      <th>25 to 29</th>\n",
       "      <td>234946</td>\n",
       "    </tr>\n",
       "    <tr>\n",
       "      <th>30 to 34</th>\n",
       "      <td>207107</td>\n",
       "    </tr>\n",
       "    <tr>\n",
       "      <th>35 to 39</th>\n",
       "      <td>159756</td>\n",
       "    </tr>\n",
       "    <tr>\n",
       "      <th>40 to 44</th>\n",
       "      <td>138758</td>\n",
       "    </tr>\n",
       "    <tr>\n",
       "      <th>45 to 49</th>\n",
       "      <td>115224</td>\n",
       "    </tr>\n",
       "    <tr>\n",
       "      <th>5 to 9</th>\n",
       "      <td>32374</td>\n",
       "    </tr>\n",
       "    <tr>\n",
       "      <th>50 to 54</th>\n",
       "      <td>106637</td>\n",
       "    </tr>\n",
       "    <tr>\n",
       "      <th>55 to 59</th>\n",
       "      <td>93228</td>\n",
       "    </tr>\n",
       "    <tr>\n",
       "      <th>60 to 64</th>\n",
       "      <td>74082</td>\n",
       "    </tr>\n",
       "    <tr>\n",
       "      <th>65 to 69</th>\n",
       "      <td>52567</td>\n",
       "    </tr>\n",
       "    <tr>\n",
       "      <th>70 to 74</th>\n",
       "      <td>36484</td>\n",
       "    </tr>\n",
       "    <tr>\n",
       "      <th>75 to 79</th>\n",
       "      <td>20357</td>\n",
       "    </tr>\n",
       "    <tr>\n",
       "      <th>80+</th>\n",
       "      <td>21983</td>\n",
       "    </tr>\n",
       "  </tbody>\n",
       "</table>\n",
       "</div>"
      ],
      "text/plain": [
       "                       Count\n",
       "RemovalType AgeGroup        \n",
       "DIED        0 to 4       242\n",
       "            10 to 14      72\n",
       "            15 to 19     137\n",
       "            20 to 24     247\n",
       "            25 to 29     445\n",
       "            30 to 34     610\n",
       "            35 to 39     812\n",
       "            40 to 44    1109\n",
       "            45 to 49    1661\n",
       "            5 to 9        38\n",
       "            50 to 54    2413\n",
       "            55 to 59    3111\n",
       "            60 to 64    4046\n",
       "            65 to 69    4350\n",
       "            70 to 74    4122\n",
       "            75 to 79    2836\n",
       "            80+         4074\n",
       "RECOVERED   0 to 4     30930\n",
       "            10 to 14   44617\n",
       "            15 to 19   67601\n",
       "            20 to 24  169571\n",
       "            25 to 29  234946\n",
       "            30 to 34  207107\n",
       "            35 to 39  159756\n",
       "            40 to 44  138758\n",
       "            45 to 49  115224\n",
       "            5 to 9     32374\n",
       "            50 to 54  106637\n",
       "            55 to 59   93228\n",
       "            60 to 64   74082\n",
       "            65 to 69   52567\n",
       "            70 to 74   36484\n",
       "            75 to 79   20357\n",
       "            80+        21983"
      ]
     },
     "execution_count": 12,
     "metadata": {},
     "output_type": "execute_result"
    }
   ],
   "source": [
    "#Death and Recoveries per Age Group\n",
    "df1['Count'] = 1\n",
    "tallyPerAgeGroup = df1.groupby(['RemovalType', 'AgeGroup']).count()['Count']\n",
    "tallyPerAgeGroup.to_frame()"
   ]
  },
  {
   "cell_type": "markdown",
   "metadata": {},
   "source": [
    "------"
   ]
  },
  {
   "cell_type": "markdown",
   "metadata": {},
   "source": [
    "## Task 3: Mean of the ages of the every patient, recovered patients, and casualties"
   ]
  },
  {
   "cell_type": "code",
   "execution_count": 13,
   "metadata": {},
   "outputs": [
    {
     "name": "stdout",
     "output_type": "stream",
     "text": [
      "38.35\n"
     ]
    }
   ],
   "source": [
    "#Mean of the ages of covid-19 patients\n",
    "mean = np.mean(df1['Age'])\n",
    "print(round(mean, 2))"
   ]
  },
  {
   "cell_type": "code",
   "execution_count": 14,
   "metadata": {},
   "outputs": [
    {
     "data": {
      "text/plain": [
       "1608528"
      ]
     },
     "execution_count": 14,
     "metadata": {},
     "output_type": "execute_result"
    }
   ],
   "source": [
    "#filtering all recovered cases\n",
    "rec_f = df1.HealthStatus.str.contains('RECOVERED')\n",
    "df_rec = df1[rec_f]\n",
    "df_rec.shape[0]"
   ]
  },
  {
   "cell_type": "code",
   "execution_count": 15,
   "metadata": {},
   "outputs": [
    {
     "data": {
      "text/plain": [
       "37.89"
      ]
     },
     "execution_count": 15,
     "metadata": {},
     "output_type": "execute_result"
    }
   ],
   "source": [
    "#mean of the ages of covid-19 patients that recovered\n",
    "mean_rec = round(np.mean(df_rec['Age']),2)\n",
    "mean_rec"
   ]
  },
  {
   "cell_type": "code",
   "execution_count": 16,
   "metadata": {},
   "outputs": [
    {
     "data": {
      "text/plain": [
       "30340"
      ]
     },
     "execution_count": 16,
     "metadata": {},
     "output_type": "execute_result"
    }
   ],
   "source": [
    "#filtering all death cases\n",
    "died_f = df1.HealthStatus.str.contains('DIED')\n",
    "df_died = df1[died_f]\n",
    "df_died.shape[0]"
   ]
  },
  {
   "cell_type": "code",
   "execution_count": 17,
   "metadata": {},
   "outputs": [
    {
     "data": {
      "text/plain": [
       "62.78"
      ]
     },
     "execution_count": 17,
     "metadata": {},
     "output_type": "execute_result"
    }
   ],
   "source": [
    "#mean of the ages of covid-19 patients that died\n",
    "mean_died = round(np.mean(df_died['Age']), 2)\n",
    "mean_died"
   ]
  },
  {
   "cell_type": "code",
   "execution_count": 18,
   "metadata": {},
   "outputs": [
    {
     "name": "stdout",
     "output_type": "stream",
     "text": [
      "Standard Deviation: 17.71\n",
      "Variance: 313.5\n"
     ]
    }
   ],
   "source": [
    "#computing for standard deviation and variance\n",
    "std = round(np.std(df1['Age']), 2)\n",
    "var = round(np.var(df1['Age']), 2)\n",
    "print(\"Standard Deviation:\", std)\n",
    "print(\"Variance:\", var)"
   ]
  },
  {
   "cell_type": "markdown",
   "metadata": {},
   "source": [
    "---"
   ]
  },
  {
   "cell_type": "markdown",
   "metadata": {},
   "source": [
    "## Task 4:  Which sex has the most number of cases?"
   ]
  },
  {
   "cell_type": "code",
   "execution_count": 20,
   "metadata": {
    "scrolled": true
   },
   "outputs": [
    {
     "data": {
      "text/html": [
       "<div>\n",
       "<style scoped>\n",
       "    .dataframe tbody tr th:only-of-type {\n",
       "        vertical-align: middle;\n",
       "    }\n",
       "\n",
       "    .dataframe tbody tr th {\n",
       "        vertical-align: top;\n",
       "    }\n",
       "\n",
       "    .dataframe thead th {\n",
       "        text-align: right;\n",
       "    }\n",
       "</style>\n",
       "<table border=\"1\" class=\"dataframe\">\n",
       "  <thead>\n",
       "    <tr style=\"text-align: right;\">\n",
       "      <th></th>\n",
       "      <th>Sex</th>\n",
       "    </tr>\n",
       "  </thead>\n",
       "  <tbody>\n",
       "    <tr>\n",
       "      <th>MALE</th>\n",
       "      <td>895189</td>\n",
       "    </tr>\n",
       "    <tr>\n",
       "      <th>FEMALE</th>\n",
       "      <td>846427</td>\n",
       "    </tr>\n",
       "  </tbody>\n",
       "</table>\n",
       "</div>"
      ],
      "text/plain": [
       "           Sex\n",
       "MALE    895189\n",
       "FEMALE  846427"
      ]
     },
     "execution_count": 20,
     "metadata": {},
     "output_type": "execute_result"
    }
   ],
   "source": [
    "tallyPerSex = df1['Sex'].value_counts()\n",
    "tallyPerSex.to_frame()"
   ]
  },
  {
   "cell_type": "code",
   "execution_count": 21,
   "metadata": {
    "scrolled": true
   },
   "outputs": [
    {
     "data": {
      "image/png": "[encoded data removed]",
      "text/plain": [
       "<Figure size 432x288 with 1 Axes>"
      ]
     },
     "metadata": {},
     "output_type": "display_data"
    }
   ],
   "source": [
    "plt.pie(tallyPerSex, startangle = 90, autopct = '%0.2f%%', colors = ['lightblue', 'pink'], labels = [\"Male\", \"Female\"])\n",
    "plt.title('Cases distribution per Sex')\n",
    "plt.show()"
   ]
  },
  {
   "cell_type": "markdown",
   "metadata": {},
   "source": [
    "---"
   ]
  },
  {
   "cell_type": "markdown",
   "metadata": {},
   "source": [
    "## Task 5: Total cases per Region"
   ]
  },
  {
   "cell_type": "code",
   "execution_count": 22,
   "metadata": {},
   "outputs": [
    {
     "data": {
      "text/html": [
       "<div>\n",
       "<style scoped>\n",
       "    .dataframe tbody tr th:only-of-type {\n",
       "        vertical-align: middle;\n",
       "    }\n",
       "\n",
       "    .dataframe tbody tr th {\n",
       "        vertical-align: top;\n",
       "    }\n",
       "\n",
       "    .dataframe thead th {\n",
       "        text-align: right;\n",
       "    }\n",
       "</style>\n",
       "<table border=\"1\" class=\"dataframe\">\n",
       "  <thead>\n",
       "    <tr style=\"text-align: right;\">\n",
       "      <th></th>\n",
       "      <th>RegionRes</th>\n",
       "    </tr>\n",
       "  </thead>\n",
       "  <tbody>\n",
       "    <tr>\n",
       "      <th>NCR</th>\n",
       "      <td>593551</td>\n",
       "    </tr>\n",
       "    <tr>\n",
       "      <th>Region IV-A: CALABARZON</th>\n",
       "      <td>295256</td>\n",
       "    </tr>\n",
       "    <tr>\n",
       "      <th>Region III: Central Luzon</th>\n",
       "      <td>162477</td>\n",
       "    </tr>\n",
       "    <tr>\n",
       "      <th>Region VII: Central Visayas</th>\n",
       "      <td>106493</td>\n",
       "    </tr>\n",
       "    <tr>\n",
       "      <th>Region VI: Western Visayas</th>\n",
       "      <td>98178</td>\n",
       "    </tr>\n",
       "    <tr>\n",
       "      <th>Region II: Cagayan Valley</th>\n",
       "      <td>65036</td>\n",
       "    </tr>\n",
       "    <tr>\n",
       "      <th>Region XI: Davao Region</th>\n",
       "      <td>61465</td>\n",
       "    </tr>\n",
       "    <tr>\n",
       "      <th>Region X: Northern Mindanao</th>\n",
       "      <td>49628</td>\n",
       "    </tr>\n",
       "    <tr>\n",
       "      <th>Region I: Ilocos Region</th>\n",
       "      <td>48715</td>\n",
       "    </tr>\n",
       "    <tr>\n",
       "      <th>CAR</th>\n",
       "      <td>46067</td>\n",
       "    </tr>\n",
       "    <tr>\n",
       "      <th>Region VIII: Eastern Visayas</th>\n",
       "      <td>39473</td>\n",
       "    </tr>\n",
       "    <tr>\n",
       "      <th>Region XII: SOCCSKSARGEN</th>\n",
       "      <td>33048</td>\n",
       "    </tr>\n",
       "    <tr>\n",
       "      <th>Region IX: Zamboanga Peninsula</th>\n",
       "      <td>29079</td>\n",
       "    </tr>\n",
       "    <tr>\n",
       "      <th>CARAGA</th>\n",
       "      <td>27414</td>\n",
       "    </tr>\n",
       "    <tr>\n",
       "      <th>Region V: Bicol Region</th>\n",
       "      <td>26281</td>\n",
       "    </tr>\n",
       "    <tr>\n",
       "      <th>ROF</th>\n",
       "      <td>25027</td>\n",
       "    </tr>\n",
       "    <tr>\n",
       "      <th>Region IV-B: MIMAROPA</th>\n",
       "      <td>19500</td>\n",
       "    </tr>\n",
       "    <tr>\n",
       "      <th>BARMM</th>\n",
       "      <td>11820</td>\n",
       "    </tr>\n",
       "  </tbody>\n",
       "</table>\n",
       "</div>"
      ],
      "text/plain": [
       "                                RegionRes\n",
       "NCR                                593551\n",
       "Region IV-A: CALABARZON            295256\n",
       "Region III: Central Luzon          162477\n",
       "Region VII: Central Visayas        106493\n",
       "Region VI: Western Visayas          98178\n",
       "Region II: Cagayan Valley           65036\n",
       "Region XI: Davao Region             61465\n",
       "Region X: Northern Mindanao         49628\n",
       "Region I: Ilocos Region             48715\n",
       "CAR                                 46067\n",
       "Region VIII: Eastern Visayas        39473\n",
       "Region XII: SOCCSKSARGEN            33048\n",
       "Region IX: Zamboanga Peninsula      29079\n",
       "CARAGA                              27414\n",
       "Region V: Bicol Region              26281\n",
       "ROF                                 25027\n",
       "Region IV-B: MIMAROPA               19500\n",
       "BARMM                               11820"
      ]
     },
     "execution_count": 22,
     "metadata": {},
     "output_type": "execute_result"
    }
   ],
   "source": [
    "tallyPerRegion = df1['RegionRes'].value_counts()\n",
    "tallyPerRegion.to_frame()"
   ]
  },
  {
   "cell_type": "code",
   "execution_count": 23,
   "metadata": {},
   "outputs": [
    {
     "data": {
      "text/html": [
       "<div>\n",
       "<style scoped>\n",
       "    .dataframe tbody tr th:only-of-type {\n",
       "        vertical-align: middle;\n",
       "    }\n",
       "\n",
       "    .dataframe tbody tr th {\n",
       "        vertical-align: top;\n",
       "    }\n",
       "\n",
       "    .dataframe thead th {\n",
       "        text-align: right;\n",
       "    }\n",
       "</style>\n",
       "<table border=\"1\" class=\"dataframe\">\n",
       "  <thead>\n",
       "    <tr style=\"text-align: right;\">\n",
       "      <th></th>\n",
       "      <th>RegionRes</th>\n",
       "    </tr>\n",
       "  </thead>\n",
       "  <tbody>\n",
       "    <tr>\n",
       "      <th>National Capital Region</th>\n",
       "      <td>593551</td>\n",
       "    </tr>\n",
       "    <tr>\n",
       "      <th>Region IV-A: CALABARZON</th>\n",
       "      <td>295256</td>\n",
       "    </tr>\n",
       "    <tr>\n",
       "      <th>Region III: Central Luzon</th>\n",
       "      <td>162477</td>\n",
       "    </tr>\n",
       "    <tr>\n",
       "      <th>Region VII: Central Visayas</th>\n",
       "      <td>106493</td>\n",
       "    </tr>\n",
       "    <tr>\n",
       "      <th>Region VI: Western Visayas</th>\n",
       "      <td>98178</td>\n",
       "    </tr>\n",
       "    <tr>\n",
       "      <th>Region II: Cagayan Valley</th>\n",
       "      <td>65036</td>\n",
       "    </tr>\n",
       "    <tr>\n",
       "      <th>Region XI: Davao Region</th>\n",
       "      <td>61465</td>\n",
       "    </tr>\n",
       "    <tr>\n",
       "      <th>Region X: Northern Mindanao</th>\n",
       "      <td>49628</td>\n",
       "    </tr>\n",
       "    <tr>\n",
       "      <th>Region I: Ilocos Region</th>\n",
       "      <td>48715</td>\n",
       "    </tr>\n",
       "    <tr>\n",
       "      <th>Cordillera Administrative Region</th>\n",
       "      <td>46067</td>\n",
       "    </tr>\n",
       "    <tr>\n",
       "      <th>Region VIII: Eastern Visayas</th>\n",
       "      <td>39473</td>\n",
       "    </tr>\n",
       "    <tr>\n",
       "      <th>Region XII: SOCCSKSARGEN</th>\n",
       "      <td>33048</td>\n",
       "    </tr>\n",
       "    <tr>\n",
       "      <th>Region IX: Zamboanga Peninsula</th>\n",
       "      <td>29079</td>\n",
       "    </tr>\n",
       "    <tr>\n",
       "      <th>CARAGA</th>\n",
       "      <td>27414</td>\n",
       "    </tr>\n",
       "    <tr>\n",
       "      <th>Region V: Bicol Region</th>\n",
       "      <td>26281</td>\n",
       "    </tr>\n",
       "    <tr>\n",
       "      <th>Returning Overseas Filipinos</th>\n",
       "      <td>25027</td>\n",
       "    </tr>\n",
       "    <tr>\n",
       "      <th>Region IV-B: MIMAROPA</th>\n",
       "      <td>19500</td>\n",
       "    </tr>\n",
       "    <tr>\n",
       "      <th>Bangsamoro Administrative Region in Muslim Mindanao</th>\n",
       "      <td>11820</td>\n",
       "    </tr>\n",
       "  </tbody>\n",
       "</table>\n",
       "</div>"
      ],
      "text/plain": [
       "                                                    RegionRes\n",
       "National Capital Region                                593551\n",
       "Region IV-A: CALABARZON                                295256\n",
       "Region III: Central Luzon                              162477\n",
       "Region VII: Central Visayas                            106493\n",
       "Region VI: Western Visayas                              98178\n",
       "Region II: Cagayan Valley                               65036\n",
       "Region XI: Davao Region                                 61465\n",
       "Region X: Northern Mindanao                             49628\n",
       "Region I: Ilocos Region                                 48715\n",
       "Cordillera Administrative Region                        46067\n",
       "Region VIII: Eastern Visayas                            39473\n",
       "Region XII: SOCCSKSARGEN                                33048\n",
       "Region IX: Zamboanga Peninsula                          29079\n",
       "CARAGA                                                  27414\n",
       "Region V: Bicol Region                                  26281\n",
       "Returning Overseas Filipinos                            25027\n",
       "Region IV-B: MIMAROPA                                   19500\n",
       "Bangsamoro Administrative Region in Muslim Mind...      11820"
      ]
     },
     "execution_count": 23,
     "metadata": {},
     "output_type": "execute_result"
    }
   ],
   "source": [
    "#replacing all acronyms\n",
    "df1['RegionRes'].replace(['NCR', \n",
    "                          'CAR', \n",
    "                          'ROF', \n",
    "                          'BARMM'], \n",
    "                         ['National Capital Region', \n",
    "                          'Cordillera Administrative Region',\n",
    "                          'Returning Overseas Filipinos',\n",
    "                          'Bangsamoro Administrative Region in Muslim Mindanao'], inplace=True)\n",
    "tallyPerRegion = df1['RegionRes'].value_counts()\n",
    "tallyPerRegion.to_frame()"
   ]
  },
  {
   "cell_type": "code",
   "execution_count": 24,
   "metadata": {},
   "outputs": [
    {
     "data": {
      "image/png": "[encoded data removed]",
      "text/plain": [
       "<Figure size 432x288 with 1 Axes>"
      ]
     },
     "metadata": {
      "needs_background": "light"
     },
     "output_type": "display_data"
    }
   ],
   "source": [
    "region_bar = tallyPerRegion.plot(kind = \"bar\", color= \"blue\")\n",
    "ageGroup_bar.set_title(\"Cases distribution per Region\")\n",
    "plt.show()"
   ]
  }
 ],
 "metadata": {
  "kernelspec": {
   "display_name": "Python 3",
   "language": "python",
   "name": "python3"
  },
  "language_info": {
   "codemirror_mode": {
    "name": "ipython",
    "version": 3
   },
   "file_extension": ".py",
   "mimetype": "text/x-python",
   "name": "python",
   "nbconvert_exporter": "python",
   "pygments_lexer": "ipython3",
   "version": "3.8.5"
  }
 },
 "nbformat": 4,
 "nbformat_minor": 4
}
